{
  "cells": [
    {
      "cell_type": "markdown",
      "source": [
        "# Automated ML\n",
        "\n",
        "Importing all needed dependencies to complete the project."
      ],
      "metadata": {}
    },
    {
      "cell_type": "code",
      "source": [
        "import logging\n",
        "import os\n",
        "import json\n",
        "import csv\n",
        "import numpy as np\n",
        "import pandas as pd\n",
        "import pkg_resources\n",
        "import joblib\n",
        "\n",
        "import azureml.core\n",
        "from azureml.core.experiment import Experiment\n",
        "from azureml.core.workspace import Workspace\n",
        "from azureml.train.automl import AutoMLConfig\n",
        "from azureml.core.dataset import Dataset\n",
        "from azureml.core.compute import AmlCompute\n",
        "from azureml.core.compute import ComputeTarget\n",
        "from azureml.core.compute_target import ComputeTargetException\n",
        "from azureml.pipeline.steps import AutoMLStep\n",
        "from azureml.widgets import RunDetails\n",
        "from azureml.core import Model, Environment\n",
        "from azureml.core.model import InferenceConfig\n",
        "from azureml.core.webservice import AciWebservice\n",
        "\n",
        "# Check core SDK version number\n",
        "print(\"SDK version:\", azureml.core.VERSION)"
      ],
      "outputs": [
        {
          "output_type": "stream",
          "name": "stdout",
          "text": "SDK version: 1.51.0\n"
        }
      ],
      "execution_count": 4,
      "metadata": {
        "gather": {
          "logged": 1704705467006
        },
        "jupyter": {
          "outputs_hidden": false,
          "source_hidden": false
        },
        "nteract": {
          "transient": {
            "deleting": false
          }
        }
      }
    },
    {
      "cell_type": "markdown",
      "source": [
        "## Dataset\n",
        "\n",
        "### Overview\n",
        "The dataset collects the records of females patients of age 21 and older from Pima Indian heritage. The dataset has a total of 768 entries. The objective is to predict if a patient has diabetes or not by evaluating certain diagnostic measurements. \n",
        "https://www.kaggle.com/mathchi/diabetes-data-set\n",
        "\n",
        "Task\n",
        "Predict the \"Outcome\" column based on the input features, either the patient has diabetes or not.\n",
        "\n",
        "The dataset has nine features as follow:\n",
        "- Pregnancies: Number pregnancy times (int).\n",
        "- Glucose: Plasma glucose concentration level (int).\n",
        "- BloodPressure: Diastolic blood pressure level in mm Hg(int).\n",
        "- SkinThickness: skinfold thickness in mm(int).\n",
        "- Insulin: two-hour serum insulin measured by mu U/ml(int).\n",
        "- BMI: Body mass index (float).\n",
        "- DiabetesPedigreeFunction: Diabetes pedigree function(float).\n",
        "- Age: age in years 21 and above(int).\n",
        "- Outcome: Target column 0 or 1, 0 = Not diabetes, 1 = diabetes(int)."
      ],
      "metadata": {}
    },
    {
      "cell_type": "code",
      "source": [
        "ws = Workspace.from_config()\n",
        "\n",
        "# choose a name for experiment\n",
        "experiment_name = 'automl-exp'\n",
        "\n",
        "experiment=Experiment(ws, experiment_name)"
      ],
      "outputs": [],
      "execution_count": 5,
      "metadata": {
        "gather": {
          "logged": 1704705471137
        },
        "jupyter": {
          "outputs_hidden": false,
          "source_hidden": false
        },
        "nteract": {
          "transient": {
            "deleting": false
          }
        }
      }
    },
    {
      "cell_type": "code",
      "source": [
        "# Load the registered dataset from workspace\n",
        "dataset = Dataset.get_by_name(ws, name='diabetes')\n",
        "\n",
        "# Convert the dataset to dataframe\n",
        "df = dataset.to_pandas_dataframe()\n",
        "df.info()"
      ],
      "outputs": [
        {
          "output_type": "stream",
          "name": "stdout",
          "text": "<class 'pandas.core.frame.DataFrame'>\nRangeIndex: 768 entries, 0 to 767\nData columns (total 9 columns):\n #   Column                    Non-Null Count  Dtype  \n---  ------                    --------------  -----  \n 0   Pregnancies               768 non-null    int64  \n 1   Glucose                   768 non-null    int64  \n 2   BloodPressure             768 non-null    int64  \n 3   SkinThickness             768 non-null    int64  \n 4   Insulin                   768 non-null    int64  \n 5   BMI                       768 non-null    float64\n 6   DiabetesPedigreeFunction  768 non-null    float64\n 7   Age                       768 non-null    int64  \n 8   Outcome                   768 non-null    int64  \ndtypes: float64(2), int64(7)\nmemory usage: 54.1 KB\n"
        }
      ],
      "execution_count": 6,
      "metadata": {
        "gather": {
          "logged": 1704705473821
        }
      }
    },
    {
      "cell_type": "code",
      "source": [
        "df.describe()"
      ],
      "outputs": [
        {
          "output_type": "execute_result",
          "execution_count": 7,
          "data": {
            "text/plain": "       Pregnancies     Glucose  BloodPressure  SkinThickness     Insulin  \\\ncount   768.000000  768.000000     768.000000     768.000000  768.000000   \nmean      3.845052  120.894531      69.105469      20.536458   79.799479   \nstd       3.369578   31.972618      19.355807      15.952218  115.244002   \nmin       0.000000    0.000000       0.000000       0.000000    0.000000   \n25%       1.000000   99.000000      62.000000       0.000000    0.000000   \n50%       3.000000  117.000000      72.000000      23.000000   30.500000   \n75%       6.000000  140.250000      80.000000      32.000000  127.250000   \nmax      17.000000  199.000000     122.000000      99.000000  846.000000   \n\n              BMI  DiabetesPedigreeFunction         Age     Outcome  \ncount  768.000000                768.000000  768.000000  768.000000  \nmean    31.992578                  0.471876   33.240885    0.348958  \nstd      7.884160                  0.331329   11.760232    0.476951  \nmin      0.000000                  0.078000   21.000000    0.000000  \n25%     27.300000                  0.243750   24.000000    0.000000  \n50%     32.000000                  0.372500   29.000000    0.000000  \n75%     36.600000                  0.626250   41.000000    1.000000  \nmax     67.100000                  2.420000   81.000000    1.000000  ",
            "text/html": "<div>\n<style scoped>\n    .dataframe tbody tr th:only-of-type {\n        vertical-align: middle;\n    }\n\n    .dataframe tbody tr th {\n        vertical-align: top;\n    }\n\n    .dataframe thead th {\n        text-align: right;\n    }\n</style>\n<table border=\"1\" class=\"dataframe\">\n  <thead>\n    <tr style=\"text-align: right;\">\n      <th></th>\n      <th>Pregnancies</th>\n      <th>Glucose</th>\n      <th>BloodPressure</th>\n      <th>SkinThickness</th>\n      <th>Insulin</th>\n      <th>BMI</th>\n      <th>DiabetesPedigreeFunction</th>\n      <th>Age</th>\n      <th>Outcome</th>\n    </tr>\n  </thead>\n  <tbody>\n    <tr>\n      <th>count</th>\n      <td>768.000000</td>\n      <td>768.000000</td>\n      <td>768.000000</td>\n      <td>768.000000</td>\n      <td>768.000000</td>\n      <td>768.000000</td>\n      <td>768.000000</td>\n      <td>768.000000</td>\n      <td>768.000000</td>\n    </tr>\n    <tr>\n      <th>mean</th>\n      <td>3.845052</td>\n      <td>120.894531</td>\n      <td>69.105469</td>\n      <td>20.536458</td>\n      <td>79.799479</td>\n      <td>31.992578</td>\n      <td>0.471876</td>\n      <td>33.240885</td>\n      <td>0.348958</td>\n    </tr>\n    <tr>\n      <th>std</th>\n      <td>3.369578</td>\n      <td>31.972618</td>\n      <td>19.355807</td>\n      <td>15.952218</td>\n      <td>115.244002</td>\n      <td>7.884160</td>\n      <td>0.331329</td>\n      <td>11.760232</td>\n      <td>0.476951</td>\n    </tr>\n    <tr>\n      <th>min</th>\n      <td>0.000000</td>\n      <td>0.000000</td>\n      <td>0.000000</td>\n      <td>0.000000</td>\n      <td>0.000000</td>\n      <td>0.000000</td>\n      <td>0.078000</td>\n      <td>21.000000</td>\n      <td>0.000000</td>\n    </tr>\n    <tr>\n      <th>25%</th>\n      <td>1.000000</td>\n      <td>99.000000</td>\n      <td>62.000000</td>\n      <td>0.000000</td>\n      <td>0.000000</td>\n      <td>27.300000</td>\n      <td>0.243750</td>\n      <td>24.000000</td>\n      <td>0.000000</td>\n    </tr>\n    <tr>\n      <th>50%</th>\n      <td>3.000000</td>\n      <td>117.000000</td>\n      <td>72.000000</td>\n      <td>23.000000</td>\n      <td>30.500000</td>\n      <td>32.000000</td>\n      <td>0.372500</td>\n      <td>29.000000</td>\n      <td>0.000000</td>\n    </tr>\n    <tr>\n      <th>75%</th>\n      <td>6.000000</td>\n      <td>140.250000</td>\n      <td>80.000000</td>\n      <td>32.000000</td>\n      <td>127.250000</td>\n      <td>36.600000</td>\n      <td>0.626250</td>\n      <td>41.000000</td>\n      <td>1.000000</td>\n    </tr>\n    <tr>\n      <th>max</th>\n      <td>17.000000</td>\n      <td>199.000000</td>\n      <td>122.000000</td>\n      <td>99.000000</td>\n      <td>846.000000</td>\n      <td>67.100000</td>\n      <td>2.420000</td>\n      <td>81.000000</td>\n      <td>1.000000</td>\n    </tr>\n  </tbody>\n</table>\n</div>"
          },
          "metadata": {}
        }
      ],
      "execution_count": 7,
      "metadata": {
        "gather": {
          "logged": 1704705474795
        }
      }
    },
    {
      "cell_type": "code",
      "source": [
        "#Display the first five records of the dataset\n",
        "df.head()"
      ],
      "outputs": [
        {
          "output_type": "execute_result",
          "execution_count": 8,
          "data": {
            "text/plain": "   Pregnancies  Glucose  BloodPressure  SkinThickness  Insulin   BMI  \\\n0            6      148             72             35        0  33.6   \n1            1       85             66             29        0  26.6   \n2            8      183             64              0        0  23.3   \n3            1       89             66             23       94  28.1   \n4            0      137             40             35      168  43.1   \n\n   DiabetesPedigreeFunction  Age  Outcome  \n0                     0.627   50        1  \n1                     0.351   31        0  \n2                     0.672   32        1  \n3                     0.167   21        0  \n4                     2.288   33        1  ",
            "text/html": "<div>\n<style scoped>\n    .dataframe tbody tr th:only-of-type {\n        vertical-align: middle;\n    }\n\n    .dataframe tbody tr th {\n        vertical-align: top;\n    }\n\n    .dataframe thead th {\n        text-align: right;\n    }\n</style>\n<table border=\"1\" class=\"dataframe\">\n  <thead>\n    <tr style=\"text-align: right;\">\n      <th></th>\n      <th>Pregnancies</th>\n      <th>Glucose</th>\n      <th>BloodPressure</th>\n      <th>SkinThickness</th>\n      <th>Insulin</th>\n      <th>BMI</th>\n      <th>DiabetesPedigreeFunction</th>\n      <th>Age</th>\n      <th>Outcome</th>\n    </tr>\n  </thead>\n  <tbody>\n    <tr>\n      <th>0</th>\n      <td>6</td>\n      <td>148</td>\n      <td>72</td>\n      <td>35</td>\n      <td>0</td>\n      <td>33.6</td>\n      <td>0.627</td>\n      <td>50</td>\n      <td>1</td>\n    </tr>\n    <tr>\n      <th>1</th>\n      <td>1</td>\n      <td>85</td>\n      <td>66</td>\n      <td>29</td>\n      <td>0</td>\n      <td>26.6</td>\n      <td>0.351</td>\n      <td>31</td>\n      <td>0</td>\n    </tr>\n    <tr>\n      <th>2</th>\n      <td>8</td>\n      <td>183</td>\n      <td>64</td>\n      <td>0</td>\n      <td>0</td>\n      <td>23.3</td>\n      <td>0.672</td>\n      <td>32</td>\n      <td>1</td>\n    </tr>\n    <tr>\n      <th>3</th>\n      <td>1</td>\n      <td>89</td>\n      <td>66</td>\n      <td>23</td>\n      <td>94</td>\n      <td>28.1</td>\n      <td>0.167</td>\n      <td>21</td>\n      <td>0</td>\n    </tr>\n    <tr>\n      <th>4</th>\n      <td>0</td>\n      <td>137</td>\n      <td>40</td>\n      <td>35</td>\n      <td>168</td>\n      <td>43.1</td>\n      <td>2.288</td>\n      <td>33</td>\n      <td>1</td>\n    </tr>\n  </tbody>\n</table>\n</div>"
          },
          "metadata": {}
        }
      ],
      "execution_count": 8,
      "metadata": {
        "gather": {
          "logged": 1704705478032
        }
      }
    },
    {
      "cell_type": "code",
      "source": [
        "# Create CPU cluster\n",
        "amlcompute_cluster_name = \"compute-cluster\"\n",
        "\n",
        "# Verify if cluster does not exist otherwise use the existing one\n",
        "try:\n",
        "    compute_target = ComputeTarget(workspace=ws, name=amlcompute_cluster_name)\n",
        "    print('Found existing cluster, use it.')\n",
        "except ComputeTargetException:\n",
        "    compute_config = AmlCompute.provisioning_configuration(vm_size='Standard_DS3_V2',\n",
        "                                                           vm_priority = 'dedicated', \n",
        "                                                           max_nodes=30)\n",
        "    compute_target = ComputeTarget.create(ws, amlcompute_cluster_name, compute_config)\n",
        "\n",
        "compute_target.wait_for_completion(show_output=True)\n"
      ],
      "outputs": [
        {
          "output_type": "stream",
          "name": "stdout",
          "text": "Found existing cluster, use it.\nSucceeded\nAmlCompute wait for completion finished\n\nMinimum number of nodes requested have been provisioned\n"
        }
      ],
      "execution_count": 11,
      "metadata": {
        "gather": {
          "logged": 1704705494253
        }
      }
    },
    {
      "cell_type": "markdown",
      "source": [
        "## AutoML Configuration\n",
        "\n",
        "Overview of the automl settings and configuration used for this experiment:\n",
        "\n",
        "- \"experiment_timeout_minutes\": set to 30 minutes. The experiment will timeout after that period to avoid wasting resources.\n",
        "- \"max_concurrent_iterations\": is set to 4. The max number of concurrent iterations to be run in parallel at the same time.\n",
        "- \"primary_metric\" : is set to 'accuracy', which is a sutible metric for classification problems.\n",
        "- \"n_cross_validations\": is set to 5, therefore the training and validation sets will be divided into five equal sets.\n",
        "- \"iterations\": the number of iterations for the experiment is set to 20. It's a reasonable number and would provide the intendable result for the given dataset.\n",
        "- compute_target: set to the project cluster to run the experiment.\n",
        "- task: set to 'classification' since our target to predict whether the patient has diabetes or not.\n",
        "- training_data: the loaded dataset for the project.\n",
        "- label_column_name: set to the result/target colunm in the dataset 'Outcome' (0 or 1).\n",
        "- enable_early_stopping: is enabled to terminate the experiment if the accuracy score is not showing improvement over time.\n",
        "- featurization = is set to 'auto', it's an indicator of whether implementing a featurization step to preprocess/clean the dataset automatically or not. In our case, the preprocessing was applied for the numerical columns which normally involve treating missing values, cluster distance, the weight of evidence...etc.\n",
        "- debug_log: errors will be logged into 'automl_errors.log'.\n"
      ],
      "metadata": {}
    },
    {
      "cell_type": "code",
      "source": [
        "# Automl settings \n",
        "automl_settings = {\n",
        "    \"experiment_timeout_minutes\": 30,\n",
        "    \"max_concurrent_iterations\": 30,\n",
        "    \"primary_metric\" : 'accuracy',\n",
        "    \"n_cross_validations\": 5,\n",
        "    \"iterations\": 20\n",
        "    \n",
        "}\n",
        "\n",
        "# Automl config \n",
        "automl_config = AutoMLConfig(compute_target=compute_target,\n",
        "                             task = 'classification',\n",
        "                             training_data=dataset,\n",
        "                             label_column_name='Outcome',\n",
        "                             enable_early_stopping= True,\n",
        "                             featurization = 'auto',\n",
        "                             debug_log = 'automl_errors.log',\n",
        "                             **automl_settings\n",
        "                            )\n",
        "\n"
      ],
      "outputs": [],
      "execution_count": 12,
      "metadata": {
        "gather": {
          "logged": 1704705497195
        },
        "jupyter": {
          "outputs_hidden": false,
          "source_hidden": false
        },
        "nteract": {
          "transient": {
            "deleting": false
          }
        }
      }
    },
    {
      "cell_type": "code",
      "source": [
        "# Submit experiment\n",
        "remote_run = experiment.submit(automl_config, show_output=True)"
      ],
      "outputs": [
        {
          "output_type": "stream",
          "name": "stdout",
          "text": "Submitting remote run.\nNo run_configuration provided, running on compute-cluster with default configuration\nRunning on remote compute: compute-cluster\n"
        },
        {
          "output_type": "display_data",
          "data": {
            "text/html": "<table style=\"width:100%\"><tr><th>Experiment</th><th>Id</th><th>Type</th><th>Status</th><th>Details Page</th><th>Docs Page</th></tr><tr><td>automl-exp</td><td>AutoML_aef59d35-2dea-49cf-b96e-74638e4cd3c7</td><td>automl</td><td>NotStarted</td><td><a href=\"https://ml.azure.com/runs/AutoML_aef59d35-2dea-49cf-b96e-74638e4cd3c7?wsid=/subscriptions/5a4ab2ba-6c51-4805-8155-58759ad589d8/resourcegroups/aml-quickstarts-248655/workspaces/quick-starts-ws-248655&amp;tid=660b3398-b80e-49d2-bc5b-ac1dc93b5254\" target=\"_blank\" rel=\"noopener\">Link to Azure Machine Learning studio</a></td><td><a href=\"https://docs.microsoft.com/en-us/python/api/overview/azure/ml/intro?view=azure-ml-py\" target=\"_blank\" rel=\"noopener\">Link to Documentation</a></td></tr></table>"
          },
          "metadata": {}
        },
        {
          "output_type": "stream",
          "name": "stdout",
          "text": "\nCurrent status: FeaturesGeneration. Generating features for the dataset.\nCurrent status: DatasetCrossValidationSplit. Generating individually featurized CV splits.\nCurrent status: ModelSelection. Beginning model selection.\n\n********************************************************************************************\nDATA GUARDRAILS: \n\nTYPE:         Class balancing detection\nSTATUS:       PASSED\nDESCRIPTION:  Your inputs were analyzed, and all classes are balanced in your training data.\n              Learn more about imbalanced data: https://aka.ms/AutomatedMLImbalancedData\n\n********************************************************************************************\n\nTYPE:         Missing feature values imputation\nSTATUS:       PASSED\nDESCRIPTION:  No feature missing values were detected in the training data.\n              Learn more about missing value imputation: https://aka.ms/AutomatedMLFeaturization\n\n********************************************************************************************\n\nTYPE:         High cardinality feature detection\nSTATUS:       PASSED\nDESCRIPTION:  Your inputs were analyzed, and no high cardinality features were detected.\n              Learn more about high cardinality feature handling: https://aka.ms/AutomatedMLFeaturization\n\n********************************************************************************************\n\n********************************************************************************************\nITER: The iteration being evaluated.\nPIPELINE: A summary description of the pipeline being evaluated.\nDURATION: Time taken for the current iteration.\nMETRIC: The result of computing score on the fitted pipeline.\nBEST: The best observed score thus far.\n********************************************************************************************\n\n ITER   PIPELINE                                       DURATION            METRIC      BEST\n    0   MaxAbsScaler LightGBM                          0:00:12             0.7461    0.7461\n    1   MaxAbsScaler XGBoostClassifier                 0:00:13             0.7500    0.7500\n    2   MaxAbsScaler ExtremeRandomTrees                0:00:16             0.7213    0.7500\n    3   SparseNormalizer XGBoostClassifier             0:00:12             0.6785    0.7500\n    5   MaxAbsScaler LightGBM                          0:00:12             0.7228    0.7500\n    4   MaxAbsScaler LightGBM                          0:00:14             0.7605    0.7605\n    6   StandardScalerWrapper XGBoostClassifier        0:00:12             0.7514    0.7605\n    7   MaxAbsScaler LogisticRegression                0:00:12             0.7709    0.7709\n    8   StandardScalerWrapper ExtremeRandomTrees       0:00:14             0.6511    0.7709\n   10   SparseNormalizer LightGBM                      0:00:12             0.6785    0.7709\n    9   StandardScalerWrapper XGBoostClassifier        0:00:12             0.7501    0.7709\n   13   MaxAbsScaler SGD                               0:00:12             0.6836    0.7709\n   17   StandardScalerWrapper RandomForest             0:00:12             0.7514    0.7709\n   11   StandardScalerWrapper XGBoostClassifier        0:00:13             0.7605    0.7709\n   14   StandardScalerWrapper XGBoostClassifier        0:00:11             0.7683    0.7709\n   15   SparseNormalizer RandomForest                  0:00:13             0.6993    0.7709\n   16   StandardScalerWrapper LogisticRegression       0:00:11             0.7657    0.7709\n   12   MaxAbsScaler LogisticRegression                0:00:13             0.7696    0.7709\n   18    VotingEnsemble                                0:00:44             0.7839    0.7839\n   19    StackEnsemble                                 0:00:49             0.7813    0.7839\n"
        }
      ],
      "execution_count": 13,
      "metadata": {
        "gather": {
          "logged": 1704706458690
        },
        "jupyter": {
          "outputs_hidden": false,
          "source_hidden": false
        },
        "nteract": {
          "transient": {
            "deleting": false
          }
        }
      }
    },
    {
      "cell_type": "markdown",
      "source": [
        "## Run Details\n",
        "\n",
        "The best model has resulted from the AutoML experiment from VotingEnsemble model. The Voting Ensemble model takes a majority vote of several algorithms which makes it surpass individual algorithms and minimize the bias. \n",
        "\n",
        "Use the `RunDetails` widget to show the different experiments."
      ],
      "metadata": {}
    },
    {
      "cell_type": "code",
      "source": [
        "RunDetails(remote_run).show()"
      ],
      "outputs": [
        {
          "output_type": "display_data",
          "data": {
            "text/plain": "_AutoMLWidget(widget_settings={'childWidgetDisplay': 'popup', 'send_telemetry': False, 'log_level': 'INFO', 's…",
            "application/vnd.jupyter.widget-view+json": {
              "version_major": 2,
              "version_minor": 0,
              "model_id": "5b57ae06bca3419891fa10e7a51c14e6"
            }
          },
          "metadata": {}
        },
        {
          "output_type": "display_data",
          "data": {
            "application/aml.mini.widget.v1": "{\"status\": \"Completed\", \"workbench_run_details_uri\": \"https://ml.azure.com/runs/AutoML_aef59d35-2dea-49cf-b96e-74638e4cd3c7?wsid=/subscriptions/5a4ab2ba-6c51-4805-8155-58759ad589d8/resourcegroups/aml-quickstarts-248655/workspaces/quick-starts-ws-248655&tid=660b3398-b80e-49d2-bc5b-ac1dc93b5254\", \"run_id\": \"AutoML_aef59d35-2dea-49cf-b96e-74638e4cd3c7\", \"run_properties\": {\"run_id\": \"AutoML_aef59d35-2dea-49cf-b96e-74638e4cd3c7\", \"created_utc\": \"2024-01-08T09:18:20.617585Z\", \"properties\": {\"num_iterations\": \"20\", \"training_type\": \"TrainFull\", \"acquisition_function\": \"EI\", \"primary_metric\": \"accuracy\", \"train_split\": \"0\", \"acquisition_parameter\": \"0\", \"num_cross_validation\": \"5\", \"target\": \"compute-cluster\", \"AMLSettingsJsonString\": \"{\\\"path\\\":null,\\\"name\\\":\\\"automl-exp\\\",\\\"subscription_id\\\":\\\"5a4ab2ba-6c51-4805-8155-58759ad589d8\\\",\\\"resource_group\\\":\\\"aml-quickstarts-248655\\\",\\\"workspace_name\\\":\\\"quick-starts-ws-248655\\\",\\\"region\\\":\\\"southcentralus\\\",\\\"compute_target\\\":\\\"compute-cluster\\\",\\\"spark_service\\\":null,\\\"azure_service\\\":\\\"remote\\\",\\\"many_models\\\":false,\\\"pipeline_fetch_max_batch_size\\\":1,\\\"enable_batch_run\\\":true,\\\"enable_parallel_run\\\":false,\\\"num_procs\\\":null,\\\"enable_run_restructure\\\":false,\\\"start_auxiliary_runs_before_parent_complete\\\":false,\\\"enable_code_generation\\\":true,\\\"iterations\\\":20,\\\"primary_metric\\\":\\\"accuracy\\\",\\\"task_type\\\":\\\"classification\\\",\\\"positive_label\\\":null,\\\"data_script\\\":null,\\\"test_size\\\":0.0,\\\"test_include_predictions_only\\\":false,\\\"validation_size\\\":0.0,\\\"n_cross_validations\\\":5,\\\"y_min\\\":null,\\\"y_max\\\":null,\\\"num_classes\\\":null,\\\"featurization\\\":\\\"auto\\\",\\\"_ignore_package_version_incompatibilities\\\":false,\\\"is_timeseries\\\":false,\\\"max_cores_per_iteration\\\":1,\\\"max_concurrent_iterations\\\":30,\\\"iteration_timeout_minutes\\\":null,\\\"mem_in_mb\\\":null,\\\"enforce_time_on_windows\\\":false,\\\"experiment_timeout_minutes\\\":30,\\\"experiment_exit_score\\\":null,\\\"partition_column_names\\\":null,\\\"whitelist_models\\\":null,\\\"blacklist_algos\\\":[\\\"TensorFlowLinearClassifier\\\",\\\"TensorFlowDNN\\\"],\\\"supported_models\\\":[\\\"AveragedPerceptronClassifier\\\",\\\"RandomForest\\\",\\\"LinearSVM\\\",\\\"SVM\\\",\\\"BernoulliNaiveBayes\\\",\\\"SGD\\\",\\\"KNN\\\",\\\"DecisionTree\\\",\\\"ExtremeRandomTrees\\\",\\\"TabnetClassifier\\\",\\\"LightGBM\\\",\\\"XGBoostClassifier\\\",\\\"TensorFlowLinearClassifier\\\",\\\"TensorFlowDNN\\\",\\\"LogisticRegression\\\",\\\"GradientBoosting\\\",\\\"MultinomialNaiveBayes\\\"],\\\"private_models\\\":[],\\\"auto_blacklist\\\":true,\\\"blacklist_samples_reached\\\":false,\\\"exclude_nan_labels\\\":true,\\\"verbosity\\\":20,\\\"_debug_log\\\":\\\"azureml_automl.log\\\",\\\"show_warnings\\\":false,\\\"model_explainability\\\":true,\\\"service_url\\\":null,\\\"sdk_url\\\":null,\\\"sdk_packages\\\":null,\\\"enable_onnx_compatible_models\\\":false,\\\"enable_split_onnx_featurizer_estimator_models\\\":false,\\\"vm_type\\\":\\\"STANDARD_DS3_V2\\\",\\\"telemetry_verbosity\\\":20,\\\"send_telemetry\\\":true,\\\"enable_dnn\\\":false,\\\"scenario\\\":\\\"AutoML\\\",\\\"environment_label\\\":null,\\\"save_mlflow\\\":false,\\\"enable_categorical_indicators\\\":false,\\\"force_text_dnn\\\":false,\\\"enable_feature_sweeping\\\":true,\\\"enable_early_stopping\\\":true,\\\"early_stopping_n_iters\\\":10,\\\"arguments\\\":null,\\\"dataset_id\\\":\\\"8051f2ab-16f2-46e0-9a84-833109890e47\\\",\\\"hyperdrive_config\\\":null,\\\"validation_dataset_id\\\":null,\\\"run_source\\\":null,\\\"metrics\\\":null,\\\"enable_metric_confidence\\\":false,\\\"enable_ensembling\\\":true,\\\"enable_stack_ensembling\\\":true,\\\"ensemble_iterations\\\":15,\\\"enable_tf\\\":false,\\\"enable_subsampling\\\":false,\\\"subsample_seed\\\":null,\\\"enable_nimbusml\\\":false,\\\"enable_streaming\\\":false,\\\"force_streaming\\\":false,\\\"track_child_runs\\\":true,\\\"n_best_runs\\\":1,\\\"allowed_private_models\\\":[],\\\"label_column_name\\\":\\\"Outcome\\\",\\\"weight_column_name\\\":null,\\\"cv_split_column_names\\\":null,\\\"enable_local_managed\\\":false,\\\"_local_managed_run_id\\\":null,\\\"cost_mode\\\":1,\\\"lag_length\\\":0,\\\"metric_operation\\\":\\\"maximize\\\",\\\"preprocess\\\":true}\", \"DataPrepJsonString\": \"{\\\\\\\"training_data\\\\\\\": {\\\\\\\"datasetId\\\\\\\": \\\\\\\"8051f2ab-16f2-46e0-9a84-833109890e47\\\\\\\"}, \\\\\\\"datasets\\\\\\\": 0}\", \"EnableSubsampling\": \"False\", \"runTemplate\": \"AutoML\", \"azureml.runsource\": \"automl\", \"display_task_type\": \"classification\", \"dependencies_versions\": \"{\\\"azureml-dataprep-native\\\": \\\"38.0.0\\\", \\\"azureml-dataprep\\\": \\\"4.10.8\\\", \\\"azureml-dataprep-rslex\\\": \\\"2.17.12\\\", \\\"azureml-train-automl-runtime\\\": \\\"1.51.0.post2\\\", \\\"azureml-train-automl-client\\\": \\\"1.51.0.post1\\\", \\\"azureml-training-tabular\\\": \\\"1.51.0.post1\\\", \\\"azureml-automl-runtime\\\": \\\"1.51.0.post1\\\", \\\"azureml-automl-core\\\": \\\"1.51.0.post1\\\", \\\"azureml-mlflow\\\": \\\"1.51.0\\\", \\\"azureml-datadrift\\\": \\\"1.51.0\\\", \\\"azureml-pipeline\\\": \\\"1.51.0\\\", \\\"azureml-contrib-dataset\\\": \\\"1.51.0\\\", \\\"azureml-contrib-notebook\\\": \\\"1.51.0\\\", \\\"azureml-accel-models\\\": \\\"1.51.0\\\", \\\"azureml-automl-dnn-nlp\\\": \\\"1.51.0\\\", \\\"azureml-pipeline-core\\\": \\\"1.51.0\\\", \\\"azureml-responsibleai\\\": \\\"1.51.0\\\", \\\"azureml-contrib-automl-pipeline-steps\\\": \\\"1.51.0\\\", \\\"azureml-pipeline-steps\\\": \\\"1.51.0\\\", \\\"azureml-core\\\": \\\"1.51.0\\\", \\\"azureml-contrib-reinforcementlearning\\\": \\\"1.51.0\\\", \\\"azureml-contrib-server\\\": \\\"1.51.0\\\", \\\"azureml-opendatasets\\\": \\\"1.51.0\\\", \\\"azureml-contrib-services\\\": \\\"1.51.0\\\", \\\"azureml-telemetry\\\": \\\"1.51.0\\\", \\\"azureml-train-restclients-hyperdrive\\\": \\\"1.51.0\\\", \\\"azureml-interpret\\\": \\\"1.51.0\\\", \\\"azureml-train-core\\\": \\\"1.51.0\\\", \\\"azureml-tensorboard\\\": \\\"1.51.0\\\", \\\"azureml-train\\\": \\\"1.51.0\\\", \\\"azureml-contrib-pipeline-steps\\\": \\\"1.51.0\\\", \\\"azureml-explain-model\\\": \\\"1.51.0\\\", \\\"azureml-cli-common\\\": \\\"1.51.0\\\", \\\"azureml-widgets\\\": \\\"1.51.0\\\", \\\"azureml-train-automl\\\": \\\"1.51.0\\\", \\\"azureml-defaults\\\": \\\"1.51.0\\\", \\\"azureml-contrib-fairness\\\": \\\"1.51.0\\\", \\\"azureml-sdk\\\": \\\"1.51.0\\\", \\\"azureml-dataset-runtime\\\": \\\"1.51.0\\\", \\\"azureml-inference-server-http\\\": \\\"0.8.4\\\"}\", \"_aml_system_scenario_identification\": \"Remote.Parent\", \"ClientType\": \"SDK\", \"PlatformVersion\": \"DPV1\", \"environment_cpu_name\": \"AzureML-AutoML\", \"environment_cpu_label\": \"scikit-upgrade2\", \"environment_gpu_name\": \"AzureML-AutoML-GPU\", \"environment_gpu_label\": \"scikit-upgrade2\", \"root_attribution\": \"automl\", \"attribution\": \"AutoML\", \"Orchestrator\": \"AutoML\", \"CancelUri\": \"https://southcentralus.api.azureml.ms/jasmine/v1.0/subscriptions/5a4ab2ba-6c51-4805-8155-58759ad589d8/resourceGroups/aml-quickstarts-248655/providers/Microsoft.MachineLearningServices/workspaces/quick-starts-ws-248655/experimentids/ef83e64c-47f8-445c-b37c-161656181f2f/cancel/AutoML_aef59d35-2dea-49cf-b96e-74638e4cd3c7\", \"ClientSdkVersion\": null, \"snapshotId\": \"00000000-0000-0000-0000-000000000000\", \"SetupRunId\": \"AutoML_aef59d35-2dea-49cf-b96e-74638e4cd3c7_setup\", \"SetupRunContainerId\": \"dcid.AutoML_aef59d35-2dea-49cf-b96e-74638e4cd3c7_setup\", \"FeaturizationRunJsonPath\": \"featurizer_container.json\", \"FeaturizationRunId\": \"AutoML_aef59d35-2dea-49cf-b96e-74638e4cd3c7_featurize\", \"ProblemInfoJsonString\": \"{\\\"dataset_num_categorical\\\": 0, \\\"is_sparse\\\": true, \\\"subsampling\\\": false, \\\"has_extra_col\\\": true, \\\"dataset_classes\\\": 2, \\\"dataset_features\\\": 24, \\\"dataset_samples\\\": 768, \\\"single_frequency_class_detected\\\": false}\", \"ModelExplainRunId\": \"AutoML_aef59d35-2dea-49cf-b96e-74638e4cd3c7_ModelExplain\"}, \"tags\": {\"model_explain_run\": \"best_run\", \"_aml_system_automl_run_workspace_id\": \"6e926152-7ae7-4844-99b8-770e02b633c7\", \"_aml_system_azureml.automlComponent\": \"AutoML\", \"pipeline_id_000\": \"5dfac790c5c209f98a1da2dc1c7fb76f0397324f;c7af0367625be6ac5c2fecbfc72ed444cb7a2111;799d2168db11fc19b9e1c6c1df62f8981ad39fe9;44b5d2d23120dfcf96a7dc6389a293d17a966b1b;5304e705d6f401cb07f85bcf0ca59ac1f84dfcf5;3735210984ea10097d5c91905cf6300ac278cd89;3caa818370e5e0c328d6266c359019bd31681270;294650ec23bc3d067a4972de7ceb12f6e97260fa;79ebb3b8c385e3190e3dd4c1fa28b74730528045;5a8eb9d9f67b1dd7e9e4062585daa2417ea78989;589334a57221e0720a95cf217c065115a7b841d1;797e3e972ad02d947be4c64d2b06b775b6df7a49;17f87d449bb43aaf3cdae4b7eb6dd6e7fbdaf343;5235e3d56688f5f38ef82d73fba7c2e698fc1af2;3fd2e115482e0c7b92aa3297688aefb6c3aa6fb8;35b8e2db3c5f6e714072e1be9f0210fe48426975;1dfdf370ba770047b14bfa59c40920815defcdab;da45f657e4591caadf1589a85a1f7b8932585595;__AutoML_Ensemble__;__AutoML_Stack_Ensemble__\", \"score_000\": \"0.7461420932009167;0.7500381970970207;0.7213309566250743;0.6784568372803668;0.7227739580680757;0.7604787369493251;0.7708853238265002;0.7513708513708514;0.6511416687887276;0.6784568372803667;0.75007215007215;0.6836007130124777;0.7513708513708514;0.7656735421441303;0.7682709447415329;0.7604532722179781;0.6992869875222817;0.7695951107715814;0.7838808250572956;0.781283422459893\", \"predicted_cost_000\": \"0;0;0.5;0.5;0.5;0.5;0.5;0.5;0.5;0.5;0.5;0.5;0.5;0.5;0.5;0.5;0.5;0.5;0;0\", \"fit_time_000\": \"0.05825699999999999;0.128306;0.2770776;0.026075200000000003;0.009633999999999998;0.0146536;0.0243158;0.019667200000000003;0.039700400000000004;0.013076599999999999;0.014561200000000002;0.004368800000000001;0.0703354;0.030951999999999997;0.018290800000000003;0.0217138;0.2325466;0.0681636;11;14\", \"training_percent_000\": \"100;100;100;100;100;100;100;100;100;100;100;100;100;100;100;100;100;100;100;100\", \"iteration_000\": \"0;1;2;3;5;4;7;6;8;10;9;13;17;16;14;11;15;12;18;19\", \"run_preprocessor_000\": \"MaxAbsScaler;MaxAbsScaler;MaxAbsScaler;SparseNormalizer;MaxAbsScaler;MaxAbsScaler;MaxAbsScaler;StandardScalerWrapper;StandardScalerWrapper;SparseNormalizer;StandardScalerWrapper;MaxAbsScaler;StandardScalerWrapper;StandardScalerWrapper;StandardScalerWrapper;StandardScalerWrapper;SparseNormalizer;MaxAbsScaler;;\", \"run_algorithm_000\": \"LightGBM;XGBoostClassifier;ExtremeRandomTrees;XGBoostClassifier;LightGBM;LightGBM;LogisticRegression;XGBoostClassifier;ExtremeRandomTrees;LightGBM;XGBoostClassifier;SGD;RandomForest;LogisticRegression;XGBoostClassifier;XGBoostClassifier;RandomForest;LogisticRegression;VotingEnsemble;StackEnsemble\", \"automl_best_child_run_id\": \"AutoML_aef59d35-2dea-49cf-b96e-74638e4cd3c7_18\"}, \"end_time_utc\": \"2024-01-08T09:33:56.766851Z\", \"status\": \"Completed\", \"log_files\": {}, \"log_groups\": [], \"run_duration\": \"0:15:36\", \"run_number\": \"1704705500\", \"run_queued_details\": {\"status\": \"Completed\", \"details\": null}}, \"child_runs\": [{\"run_id\": \"AutoML_aef59d35-2dea-49cf-b96e-74638e4cd3c7_setup\", \"run_number\": 1704705512, \"metric\": null, \"status\": \"Completed\", \"run_type\": \"azureml.scriptrun\", \"training_percent\": null, \"start_time\": \"2024-01-08T09:22:15.921414Z\", \"end_time\": \"2024-01-08T09:24:16.361674Z\", \"created_time\": \"2024-01-08T09:18:32.129379Z\", \"created_time_dt\": \"2024-01-08T09:18:32.129379Z\", \"duration\": \"0:05:44\", \"iteration\": null, \"goal\": null, \"run_name\": \"Completed\", \"run_properties\": null}, {\"run_id\": \"AutoML_aef59d35-2dea-49cf-b96e-74638e4cd3c7_featurize\", \"run_number\": 1704705856, \"metric\": null, \"status\": \"Completed\", \"run_type\": \"automl.featurization\", \"training_percent\": null, \"start_time\": \"2024-01-08T09:24:17.001913Z\", \"end_time\": \"2024-01-08T09:27:37.715496Z\", \"created_time\": \"2024-01-08T09:24:16.652687Z\", \"created_time_dt\": \"2024-01-08T09:24:16.652687Z\", \"duration\": \"0:03:21\", \"iteration\": null, \"goal\": null, \"run_name\": \"Completed\", \"run_properties\": null}, {\"run_id\": \"AutoML_aef59d35-2dea-49cf-b96e-74638e4cd3c7_worker_0\", \"run_number\": 1704706059, \"metric\": null, \"status\": \"Completed\", \"run_type\": \"azureml.scriptrun\", \"training_percent\": null, \"start_time\": \"2024-01-08T09:28:02.818506Z\", \"end_time\": \"2024-01-08T09:28:32.475124Z\", \"created_time\": \"2024-01-08T09:27:39.438966Z\", \"created_time_dt\": \"2024-01-08T09:27:39.438966Z\", \"duration\": \"0:00:53\", \"iteration\": null, \"goal\": null, \"run_name\": \"Completed\", \"run_properties\": null}, {\"run_id\": \"AutoML_aef59d35-2dea-49cf-b96e-74638e4cd3c7_worker_2\", \"run_number\": 1704706060, \"metric\": null, \"status\": \"Completed\", \"run_type\": \"azureml.scriptrun\", \"training_percent\": null, \"start_time\": \"2024-01-08T09:28:18.551Z\", \"end_time\": \"2024-01-08T09:28:54.206807Z\", \"created_time\": \"2024-01-08T09:27:40.330164Z\", \"created_time_dt\": \"2024-01-08T09:27:40.330164Z\", \"duration\": \"0:01:13\", \"iteration\": null, \"goal\": null, \"run_name\": \"Completed\", \"run_properties\": null}, {\"run_id\": \"AutoML_aef59d35-2dea-49cf-b96e-74638e4cd3c7_worker_5\", \"run_number\": 1704706061, \"metric\": null, \"status\": \"Completed\", \"run_type\": \"azureml.scriptrun\", \"training_percent\": null, \"start_time\": \"2024-01-08T09:28:45.493714Z\", \"end_time\": \"2024-01-08T09:29:15.180604Z\", \"created_time\": \"2024-01-08T09:27:41.802873Z\", \"created_time_dt\": \"2024-01-08T09:27:41.802873Z\", \"duration\": \"0:01:33\", \"iteration\": null, \"goal\": null, \"run_name\": \"Completed\", \"run_properties\": null}, {\"run_id\": \"AutoML_aef59d35-2dea-49cf-b96e-74638e4cd3c7_worker_7\", \"run_number\": 1704706062, \"metric\": null, \"status\": \"Completed\", \"run_type\": \"azureml.scriptrun\", \"training_percent\": null, \"start_time\": \"2024-01-08T09:29:27.980902Z\", \"end_time\": \"2024-01-08T09:29:57.410702Z\", \"created_time\": \"2024-01-08T09:27:42.742392Z\", \"created_time_dt\": \"2024-01-08T09:27:42.742392Z\", \"duration\": \"0:02:14\", \"iteration\": null, \"goal\": null, \"run_name\": \"Completed\", \"run_properties\": null}, {\"run_id\": \"AutoML_aef59d35-2dea-49cf-b96e-74638e4cd3c7_worker_8\", \"run_number\": 1704706063, \"metric\": null, \"status\": \"Completed\", \"run_type\": \"azureml.scriptrun\", \"training_percent\": null, \"start_time\": \"2024-01-08T09:29:51.469426Z\", \"end_time\": \"2024-01-08T09:30:29.634187Z\", \"created_time\": \"2024-01-08T09:27:43.241704Z\", \"created_time_dt\": \"2024-01-08T09:27:43.241704Z\", \"duration\": \"0:02:46\", \"iteration\": null, \"goal\": null, \"run_name\": \"Completed\", \"run_properties\": null}, {\"run_id\": \"AutoML_aef59d35-2dea-49cf-b96e-74638e4cd3c7_worker_10\", \"run_number\": 1704706064, \"metric\": null, \"status\": \"Completed\", \"run_type\": \"azureml.scriptrun\", \"training_percent\": null, \"start_time\": \"2024-01-08T09:30:10.304643Z\", \"end_time\": \"2024-01-08T09:30:39.147794Z\", \"created_time\": \"2024-01-08T09:27:44.221794Z\", \"created_time_dt\": \"2024-01-08T09:27:44.221794Z\", \"duration\": \"0:02:54\", \"iteration\": null, \"goal\": null, \"run_name\": \"Completed\", \"run_properties\": null}, {\"run_id\": \"AutoML_aef59d35-2dea-49cf-b96e-74638e4cd3c7_worker_12\", \"run_number\": 1704706065, \"metric\": null, \"status\": \"Completed\", \"run_type\": \"azureml.scriptrun\", \"training_percent\": null, \"start_time\": \"2024-01-08T09:30:24.134269Z\", \"end_time\": \"2024-01-08T09:32:44.993885Z\", \"created_time\": \"2024-01-08T09:27:45.211452Z\", \"created_time_dt\": \"2024-01-08T09:27:45.211452Z\", \"duration\": \"0:04:59\", \"iteration\": null, \"goal\": null, \"run_name\": \"Completed\", \"run_properties\": null}, {\"run_id\": \"AutoML_aef59d35-2dea-49cf-b96e-74638e4cd3c7_worker_16\", \"run_number\": 1704706066, \"metric\": null, \"status\": \"Completed\", \"run_type\": \"azureml.scriptrun\", \"training_percent\": null, \"start_time\": \"2024-01-08T09:30:24.264909Z\", \"end_time\": \"2024-01-08T09:32:29.534416Z\", \"created_time\": \"2024-01-08T09:27:46.963564Z\", \"created_time_dt\": \"2024-01-08T09:27:46.963564Z\", \"duration\": \"0:04:42\", \"iteration\": null, \"goal\": null, \"run_name\": \"Completed\", \"run_properties\": null}, {\"run_id\": \"AutoML_aef59d35-2dea-49cf-b96e-74638e4cd3c7_worker_17\", \"run_number\": 1704706067, \"metric\": null, \"status\": \"Completed\", \"run_type\": \"azureml.scriptrun\", \"training_percent\": null, \"start_time\": \"2024-01-08T09:30:24.414096Z\", \"end_time\": \"2024-01-08T09:32:22.885564Z\", \"created_time\": \"2024-01-08T09:27:47.37842Z\", \"created_time_dt\": \"2024-01-08T09:27:47.37842Z\", \"duration\": \"0:04:35\", \"iteration\": null, \"goal\": null, \"run_name\": \"Completed\", \"run_properties\": null}, {\"run_id\": \"AutoML_aef59d35-2dea-49cf-b96e-74638e4cd3c7_18\", \"run_number\": 1704706358, \"metric\": null, \"status\": \"Completed\", \"run_type\": \"azureml.scriptrun\", \"training_percent\": \"100\", \"start_time\": \"2024-01-08T09:33:00.892772Z\", \"end_time\": \"2024-01-08T09:33:45.238272Z\", \"created_time\": \"2024-01-08T09:32:38.149437Z\", \"created_time_dt\": \"2024-01-08T09:32:38.149437Z\", \"duration\": \"0:01:07\", \"iteration\": \"18\", \"goal\": \"accuracy_max\", \"run_name\": \"VotingEnsemble\", \"run_properties\": \"classification_labels=numpy.array([0, 1]\", \"primary_metric\": 0.78388083, \"best_metric\": 0.78388083}], \"children_metrics\": {\"categories\": [0], \"series\": {\"recall_score_macro\": [{\"categories\": [\"18\"], \"mode\": \"markers\", \"name\": \"recall_score_macro\", \"stepped\": false, \"type\": \"scatter\", \"data\": [0.7360320601136924]}, {\"categories\": [\"18\"], \"mode\": \"lines\", \"name\": \"recall_score_macro_max\", \"stepped\": true, \"type\": \"scatter\", \"data\": [0.7360320601136924]}], \"norm_macro_recall\": [{\"categories\": [\"18\"], \"mode\": \"markers\", \"name\": \"norm_macro_recall\", \"stepped\": false, \"type\": \"scatter\", \"data\": [0.47206412022738464]}, {\"categories\": [\"18\"], \"mode\": \"lines\", \"name\": \"norm_macro_recall_max\", \"stepped\": true, \"type\": \"scatter\", \"data\": [0.47206412022738464]}], \"f1_score_micro\": [{\"categories\": [\"18\"], \"mode\": \"markers\", \"name\": \"f1_score_micro\", \"stepped\": false, \"type\": \"scatter\", \"data\": [0.7838808250572956]}, {\"categories\": [\"18\"], \"mode\": \"lines\", \"name\": \"f1_score_micro_max\", \"stepped\": true, \"type\": \"scatter\", \"data\": [0.7838808250572956]}], \"precision_score_macro\": [{\"categories\": [\"18\"], \"mode\": \"markers\", \"name\": \"precision_score_macro\", \"stepped\": false, \"type\": \"scatter\", \"data\": [0.7660621873000573]}, {\"categories\": [\"18\"], \"mode\": \"lines\", \"name\": \"precision_score_macro_max\", \"stepped\": true, \"type\": \"scatter\", \"data\": [0.7660621873000573]}], \"f1_score_macro\": [{\"categories\": [\"18\"], \"mode\": \"markers\", \"name\": \"f1_score_macro\", \"stepped\": false, \"type\": \"scatter\", \"data\": [0.7448921122586628]}, {\"categories\": [\"18\"], \"mode\": \"lines\", \"name\": \"f1_score_macro_max\", \"stepped\": true, \"type\": \"scatter\", \"data\": [0.7448921122586628]}], \"recall_score_weighted\": [{\"categories\": [\"18\"], \"mode\": \"markers\", \"name\": \"recall_score_weighted\", \"stepped\": false, \"type\": \"scatter\", \"data\": [0.7838808250572956]}, {\"categories\": [\"18\"], \"mode\": \"lines\", \"name\": \"recall_score_weighted_max\", \"stepped\": true, \"type\": \"scatter\", \"data\": [0.7838808250572956]}], \"log_loss\": [{\"categories\": [\"18\"], \"mode\": \"markers\", \"name\": \"log_loss\", \"stepped\": false, \"type\": \"scatter\", \"data\": [0.4865394225650587]}, {\"categories\": [\"18\"], \"mode\": \"lines\", \"name\": \"log_loss_min\", \"stepped\": true, \"type\": \"scatter\", \"data\": [0.4865394225650587]}], \"average_precision_score_macro\": [{\"categories\": [\"18\"], \"mode\": \"markers\", \"name\": \"average_precision_score_macro\", \"stepped\": false, \"type\": \"scatter\", \"data\": [0.8213917594732889]}, {\"categories\": [\"18\"], \"mode\": \"lines\", \"name\": \"average_precision_score_macro_max\", \"stepped\": true, \"type\": \"scatter\", \"data\": [0.8213917594732889]}], \"AUC_weighted\": [{\"categories\": [\"18\"], \"mode\": \"markers\", \"name\": \"AUC_weighted\", \"stepped\": false, \"type\": \"scatter\", \"data\": [0.839613596526938]}, {\"categories\": [\"18\"], \"mode\": \"lines\", \"name\": \"AUC_weighted_max\", \"stepped\": true, \"type\": \"scatter\", \"data\": [0.839613596526938]}], \"weighted_accuracy\": [{\"categories\": [\"18\"], \"mode\": \"markers\", \"name\": \"weighted_accuracy\", \"stepped\": false, \"type\": \"scatter\", \"data\": [0.8203700118758903]}, {\"categories\": [\"18\"], \"mode\": \"lines\", \"name\": \"weighted_accuracy_max\", \"stepped\": true, \"type\": \"scatter\", \"data\": [0.8203700118758903]}], \"AUC_micro\": [{\"categories\": [\"18\"], \"mode\": \"markers\", \"name\": \"AUC_micro\", \"stepped\": false, \"type\": \"scatter\", \"data\": [0.8584184501147007]}, {\"categories\": [\"18\"], \"mode\": \"lines\", \"name\": \"AUC_micro_max\", \"stepped\": true, \"type\": \"scatter\", \"data\": [0.8584184501147007]}], \"f1_score_weighted\": [{\"categories\": [\"18\"], \"mode\": \"markers\", \"name\": \"f1_score_weighted\", \"stepped\": false, \"type\": \"scatter\", \"data\": [0.7775015475267701]}, {\"categories\": [\"18\"], \"mode\": \"lines\", \"name\": \"f1_score_weighted_max\", \"stepped\": true, \"type\": \"scatter\", \"data\": [0.7775015475267701]}], \"AUC_macro\": [{\"categories\": [\"18\"], \"mode\": \"markers\", \"name\": \"AUC_macro\", \"stepped\": false, \"type\": \"scatter\", \"data\": [0.8396135965269382]}, {\"categories\": [\"18\"], \"mode\": \"lines\", \"name\": \"AUC_macro_max\", \"stepped\": true, \"type\": \"scatter\", \"data\": [0.8396135965269382]}], \"precision_score_micro\": [{\"categories\": [\"18\"], \"mode\": \"markers\", \"name\": \"precision_score_micro\", \"stepped\": false, \"type\": \"scatter\", \"data\": [0.7838808250572956]}, {\"categories\": [\"18\"], \"mode\": \"lines\", \"name\": \"precision_score_micro_max\", \"stepped\": true, \"type\": \"scatter\", \"data\": [0.7838808250572956]}], \"accuracy\": [{\"categories\": [\"18\"], \"mode\": \"markers\", \"name\": \"accuracy\", \"stepped\": false, \"type\": \"scatter\", \"data\": [0.7838808250572956]}, {\"categories\": [\"18\"], \"mode\": \"lines\", \"name\": \"accuracy_max\", \"stepped\": true, \"type\": \"scatter\", \"data\": [0.7838808250572956]}], \"matthews_correlation\": [{\"categories\": [\"18\"], \"mode\": \"markers\", \"name\": \"matthews_correlation\", \"stepped\": false, \"type\": \"scatter\", \"data\": [0.5009361231795327]}, {\"categories\": [\"18\"], \"mode\": \"lines\", \"name\": \"matthews_correlation_max\", \"stepped\": true, \"type\": \"scatter\", \"data\": [0.5009361231795327]}], \"average_precision_score_weighted\": [{\"categories\": [\"18\"], \"mode\": \"markers\", \"name\": \"average_precision_score_weighted\", \"stepped\": false, \"type\": \"scatter\", \"data\": [0.8504393642441533]}, {\"categories\": [\"18\"], \"mode\": \"lines\", \"name\": \"average_precision_score_weighted_max\", \"stepped\": true, \"type\": \"scatter\", \"data\": [0.8504393642441533]}], \"precision_score_weighted\": [{\"categories\": [\"18\"], \"mode\": \"markers\", \"name\": \"precision_score_weighted\", \"stepped\": false, \"type\": \"scatter\", \"data\": [0.7814237381864372]}, {\"categories\": [\"18\"], \"mode\": \"lines\", \"name\": \"precision_score_weighted_max\", \"stepped\": true, \"type\": \"scatter\", \"data\": [0.7814237381864372]}], \"average_precision_score_micro\": [{\"categories\": [\"18\"], \"mode\": \"markers\", \"name\": \"average_precision_score_micro\", \"stepped\": false, \"type\": \"scatter\", \"data\": [0.8602612879200822]}, {\"categories\": [\"18\"], \"mode\": \"lines\", \"name\": \"average_precision_score_micro_max\", \"stepped\": true, \"type\": \"scatter\", \"data\": [0.8602612879200822]}], \"balanced_accuracy\": [{\"categories\": [\"18\"], \"mode\": \"markers\", \"name\": \"balanced_accuracy\", \"stepped\": false, \"type\": \"scatter\", \"data\": [0.7360320601136924]}, {\"categories\": [\"18\"], \"mode\": \"lines\", \"name\": \"balanced_accuracy_max\", \"stepped\": true, \"type\": \"scatter\", \"data\": [0.7360320601136924]}], \"recall_score_micro\": [{\"categories\": [\"18\"], \"mode\": \"markers\", \"name\": \"recall_score_micro\", \"stepped\": false, \"type\": \"scatter\", \"data\": [0.7838808250572956]}, {\"categories\": [\"18\"], \"mode\": \"lines\", \"name\": \"recall_score_micro_max\", \"stepped\": true, \"type\": \"scatter\", \"data\": [0.7838808250572956]}]}, \"metricName\": null, \"primaryMetricName\": \"accuracy\", \"showLegend\": false}, \"run_metrics\": [{\"name\": \"experiment_status\", \"run_id\": \"AutoML_aef59d35-2dea-49cf-b96e-74638e4cd3c7\", \"categories\": [0, 1, 2, 3, 4, 5], \"series\": [{\"data\": [\"DatasetEvaluation\", \"FeaturesGeneration\", \"DatasetFeaturization\", \"DatasetFeaturizationCompleted\", \"DatasetCrossValidationSplit\", \"ModelSelection\"]}]}, {\"name\": \"experiment_status_description\", \"run_id\": \"AutoML_aef59d35-2dea-49cf-b96e-74638e4cd3c7\", \"categories\": [0, 1, 2, 3, 4, 5], \"series\": [{\"data\": [\"Gathering dataset statistics.\", \"Generating features for the dataset.\", \"Beginning to fit featurizers and featurize the dataset.\", \"Completed fit featurizers and featurizing the dataset.\", \"Generating individually featurized CV splits.\", \"Beginning model selection.\"]}]}, {\"name\": \"AUC_micro\", \"run_id\": \"AutoML_aef59d35-2dea-49cf-b96e-74638e4cd3c7\", \"categories\": [0], \"series\": [{\"data\": [0.8584184501147007]}]}, {\"name\": \"AUC_weighted\", \"run_id\": \"AutoML_aef59d35-2dea-49cf-b96e-74638e4cd3c7\", \"categories\": [0], \"series\": [{\"data\": [0.839613596526938]}]}, {\"name\": \"precision_score_micro\", \"run_id\": \"AutoML_aef59d35-2dea-49cf-b96e-74638e4cd3c7\", \"categories\": [0], \"series\": [{\"data\": [0.7838808250572956]}]}, {\"name\": \"average_precision_score_micro\", \"run_id\": \"AutoML_aef59d35-2dea-49cf-b96e-74638e4cd3c7\", \"categories\": [0], \"series\": [{\"data\": [0.8602612879200822]}]}, {\"name\": \"average_precision_score_macro\", \"run_id\": \"AutoML_aef59d35-2dea-49cf-b96e-74638e4cd3c7\", \"categories\": [0], \"series\": [{\"data\": [0.8213917594732889]}]}, {\"name\": \"matthews_correlation\", \"run_id\": \"AutoML_aef59d35-2dea-49cf-b96e-74638e4cd3c7\", \"categories\": [0], \"series\": [{\"data\": [0.5009361231795327]}]}, {\"name\": \"AUC_macro\", \"run_id\": \"AutoML_aef59d35-2dea-49cf-b96e-74638e4cd3c7\", \"categories\": [0], \"series\": [{\"data\": [0.8396135965269382]}]}, {\"name\": \"precision_score_weighted\", \"run_id\": \"AutoML_aef59d35-2dea-49cf-b96e-74638e4cd3c7\", \"categories\": [0], \"series\": [{\"data\": [0.7814237381864372]}]}, {\"name\": \"f1_score_macro\", \"run_id\": \"AutoML_aef59d35-2dea-49cf-b96e-74638e4cd3c7\", \"categories\": [0], \"series\": [{\"data\": [0.7448921122586628]}]}, {\"name\": \"balanced_accuracy\", \"run_id\": \"AutoML_aef59d35-2dea-49cf-b96e-74638e4cd3c7\", \"categories\": [0], \"series\": [{\"data\": [0.7360320601136924]}]}, {\"name\": \"average_precision_score_weighted\", \"run_id\": \"AutoML_aef59d35-2dea-49cf-b96e-74638e4cd3c7\", \"categories\": [0], \"series\": [{\"data\": [0.8504393642441533]}]}, {\"name\": \"recall_score_micro\", \"run_id\": \"AutoML_aef59d35-2dea-49cf-b96e-74638e4cd3c7\", \"categories\": [0], \"series\": [{\"data\": [0.7838808250572956]}]}, {\"name\": \"log_loss\", \"run_id\": \"AutoML_aef59d35-2dea-49cf-b96e-74638e4cd3c7\", \"categories\": [0], \"series\": [{\"data\": [0.4865394225650587]}]}, {\"name\": \"recall_score_weighted\", \"run_id\": \"AutoML_aef59d35-2dea-49cf-b96e-74638e4cd3c7\", \"categories\": [0], \"series\": [{\"data\": [0.7838808250572956]}]}, {\"name\": \"recall_score_macro\", \"run_id\": \"AutoML_aef59d35-2dea-49cf-b96e-74638e4cd3c7\", \"categories\": [0], \"series\": [{\"data\": [0.7360320601136924]}]}, {\"name\": \"accuracy\", \"run_id\": \"AutoML_aef59d35-2dea-49cf-b96e-74638e4cd3c7\", \"categories\": [0], \"series\": [{\"data\": [0.7838808250572956]}]}, {\"name\": \"f1_score_weighted\", \"run_id\": \"AutoML_aef59d35-2dea-49cf-b96e-74638e4cd3c7\", \"categories\": [0], \"series\": [{\"data\": [0.7775015475267701]}]}, {\"name\": \"precision_score_macro\", \"run_id\": \"AutoML_aef59d35-2dea-49cf-b96e-74638e4cd3c7\", \"categories\": [0], \"series\": [{\"data\": [0.7660621873000573]}]}, {\"name\": \"weighted_accuracy\", \"run_id\": \"AutoML_aef59d35-2dea-49cf-b96e-74638e4cd3c7\", \"categories\": [0], \"series\": [{\"data\": [0.8203700118758903]}]}, {\"name\": \"f1_score_micro\", \"run_id\": \"AutoML_aef59d35-2dea-49cf-b96e-74638e4cd3c7\", \"categories\": [0], \"series\": [{\"data\": [0.7838808250572956]}]}, {\"name\": \"norm_macro_recall\", \"run_id\": \"AutoML_aef59d35-2dea-49cf-b96e-74638e4cd3c7\", \"categories\": [0], \"series\": [{\"data\": [0.47206412022738464]}]}], \"run_logs\": \"\\nRun is completed.\", \"graph\": {}, \"widget_settings\": {\"childWidgetDisplay\": \"popup\", \"send_telemetry\": false, \"log_level\": \"INFO\", \"sdk_version\": \"1.51.0\"}, \"loading\": false}"
          },
          "metadata": {}
        }
      ],
      "execution_count": 14,
      "metadata": {
        "gather": {
          "logged": 1704706463770
        },
        "jupyter": {
          "outputs_hidden": false,
          "source_hidden": false
        },
        "nteract": {
          "transient": {
            "deleting": false
          }
        }
      }
    },
    {
      "cell_type": "code",
      "source": [
        "remote_run.wait_for_completion(show_output=True)"
      ],
      "outputs": [
        {
          "output_type": "display_data",
          "data": {
            "text/html": "<table style=\"width:100%\"><tr><th>Experiment</th><th>Id</th><th>Type</th><th>Status</th><th>Details Page</th><th>Docs Page</th></tr><tr><td>automl-exp</td><td>AutoML_aef59d35-2dea-49cf-b96e-74638e4cd3c7</td><td>automl</td><td>Completed</td><td><a href=\"https://ml.azure.com/runs/AutoML_aef59d35-2dea-49cf-b96e-74638e4cd3c7?wsid=/subscriptions/5a4ab2ba-6c51-4805-8155-58759ad589d8/resourcegroups/aml-quickstarts-248655/workspaces/quick-starts-ws-248655&amp;tid=660b3398-b80e-49d2-bc5b-ac1dc93b5254\" target=\"_blank\" rel=\"noopener\">Link to Azure Machine Learning studio</a></td><td><a href=\"https://docs.microsoft.com/en-us/python/api/overview/azure/ml/intro?view=azure-ml-py\" target=\"_blank\" rel=\"noopener\">Link to Documentation</a></td></tr></table>"
          },
          "metadata": {}
        },
        {
          "output_type": "stream",
          "name": "stdout",
          "text": "\n\n********************************************************************************************\nDATA GUARDRAILS: \n\nTYPE:         Class balancing detection\nSTATUS:       PASSED\nDESCRIPTION:  Your inputs were analyzed, and all classes are balanced in your training data.\n              Learn more about imbalanced data: https://aka.ms/AutomatedMLImbalancedData\n\n********************************************************************************************\n\nTYPE:         Missing feature values imputation\nSTATUS:       PASSED\nDESCRIPTION:  No feature missing values were detected in the training data.\n              Learn more about missing value imputation: https://aka.ms/AutomatedMLFeaturization\n\n********************************************************************************************\n\nTYPE:         High cardinality feature detection\nSTATUS:       PASSED\nDESCRIPTION:  Your inputs were analyzed, and no high cardinality features were detected.\n              Learn more about high cardinality feature handling: https://aka.ms/AutomatedMLFeaturization\n\n********************************************************************************************\n\n********************************************************************************************\nITER: The iteration being evaluated.\nPIPELINE: A summary description of the pipeline being evaluated.\nDURATION: Time taken for the current iteration.\nMETRIC: The result of computing score on the fitted pipeline.\nBEST: The best observed score thus far.\n********************************************************************************************\n\n ITER   PIPELINE                                       DURATION            METRIC      BEST\n"
        }
      ],
      "execution_count": 15,
      "metadata": {
        "gather": {
          "logged": 1704705082253
        }
      }
    },
    {
      "cell_type": "code",
      "source": [
        "remote_run"
      ],
      "outputs": [],
      "execution_count": null,
      "metadata": {
        "gather": {
          "logged": 1704705082281
        }
      }
    },
    {
      "cell_type": "markdown",
      "source": [
        "## Best Model\n",
        "\n",
        "The cell below shows the best model from the automl experiments and display all the properties of the model.\n",
        "\n"
      ],
      "metadata": {}
    },
    {
      "cell_type": "code",
      "source": [
        "# Retrieve and save best automl model\n",
        "best_model, model = remote_run.get_output()\n",
        "print(best_model)\n",
        "print(model.steps)"
      ],
      "outputs": [],
      "execution_count": null,
      "metadata": {
        "gather": {
          "logged": 1704705082310
        },
        "jupyter": {
          "outputs_hidden": false,
          "source_hidden": false
        },
        "nteract": {
          "transient": {
            "deleting": false
          }
        }
      }
    },
    {
      "cell_type": "code",
      "source": [
        "remote_run.get_metrics()"
      ],
      "outputs": [],
      "execution_count": null,
      "metadata": {
        "gather": {
          "logged": 1704705082338
        }
      }
    },
    {
      "cell_type": "markdown",
      "source": [
        "## Model Deployment\n",
        "\n",
        "Remember you have to deploy only one of the two models you trained.. Perform the steps in the rest of this notebook only if you wish to deploy this model.\n",
        "\n",
        "In the cell below, we have registered the model, created an inference config and deployed the model as a web service."
      ],
      "metadata": {}
    },
    {
      "cell_type": "code",
      "source": [
        "# Registring the best model\n",
        "model = best_model.register_model(model_name='automl-best-model',model_path='outputs/model.pkl')\n"
      ],
      "outputs": [],
      "execution_count": null,
      "metadata": {
        "gather": {
          "logged": 1704705082370
        },
        "jupyter": {
          "outputs_hidden": false,
          "source_hidden": false
        },
        "nteract": {
          "transient": {
            "deleting": false
          }
        }
      }
    },
    {
      "cell_type": "code",
      "source": [
        "# from azureml.core.conda_dependencies import CondaDependencies\n",
        "\n",
        "# # create environment\n",
        "# environment = Environment(name=\"azure-env\")\n",
        "# conda_dep = CondaDependencies()\n",
        "\n",
        "# # Nedded packages and scripts\n",
        "# conda_dep.add_conda_package(\"pandas\")\n",
        "# conda_dep.add_conda_package(\"numpy\")\n",
        "# conda_dep.add_pip_package(\"scikit-learn\")\n",
        "# #conda_dep.add_conda_package(\"scikit-learn\")\n",
        "# conda_dep.add_pip_package(\"azureml-defaults\")\n",
        "\n",
        "# # Adding dependencies to the created environment\n",
        "# environment.python.conda_dependencies=conda_dep\n",
        "\n",
        "# Get automl environment with its dependencies\n",
        "environment = Environment.get(ws, \"AzureML-AutoML\")"
      ],
      "outputs": [],
      "execution_count": null,
      "metadata": {
        "gather": {
          "logged": 1704705435119
        }
      }
    },
    {
      "cell_type": "code",
      "source": [
        "inference_config = InferenceConfig(entry_script='scoring.py',\n",
        "                                   environment=environment)\n",
        "service_name = 'automl-deploy-1'\n",
        "deployment_config = AciWebservice.deploy_configuration(cpu_cores=1, memory_gb=1)\n",
        "\n",
        "service = Model.deploy(workspace=ws,\n",
        "                       name=service_name,\n",
        "                       models=[model],\n",
        "                       inference_config=inference_config,\n",
        "                       deployment_config=deployment_config,\n",
        "                       overwrite=False\n",
        "                      )\n",
        "service.wait_for_deployment(show_output=True)\n",
        "\n",
        "scoring_uri = service.scoring_uri\n",
        "print(scoring_uri)"
      ],
      "outputs": [],
      "execution_count": null,
      "metadata": {
        "gather": {
          "logged": 1704705429698
        }
      }
    },
    {
      "cell_type": "code",
      "source": [
        "# Enable app insights\n",
        "service.update(enable_app_insights=True)"
      ],
      "outputs": [],
      "execution_count": null,
      "metadata": {
        "gather": {
          "logged": 1704705082472
        }
      }
    },
    {
      "cell_type": "markdown",
      "source": [
        "In the cell below, we have sent a request to the web service to test it."
      ],
      "metadata": {
        "gather": {
          "logged": 1598431657736
        },
        "jupyter": {
          "outputs_hidden": false,
          "source_hidden": false
        },
        "nteract": {
          "transient": {
            "deleting": false
          }
        }
      }
    },
    {
      "cell_type": "code",
      "source": [
        "import urllib.request\n",
        "import json\n",
        "import os\n",
        "import ssl\n",
        "\n",
        "def allowSelfSignedHttps(allowed):\n",
        "    # bypass the server certificate verification on client side\n",
        "    if allowed and not os.environ.get('PYTHONHTTPSVERIFY', '') and getattr(ssl, '_create_unverified_context', None):\n",
        "        ssl._create_default_https_context = ssl._create_unverified_context\n",
        "\n",
        "allowSelfSignedHttps(True) # this line is needed if you use self-signed certificate in your scoring service.\n",
        "\n",
        "# Request data goes here\n",
        "# The example below assumes JSON formatting which may be updated\n",
        "# depending on the format your endpoint expects.\n",
        "# More information can be found here:\n",
        "# https://docs.microsoft.com/azure/machine-learning/how-to-deploy-advanced-entry-script\n",
        "data = {\"data\": [{\"Pregnancies\": 6, \n",
        "     \"Glucose\": 148, \n",
        "     \"BloodPressure\": 72, \n",
        "     \"SkinThickness\": 35, \n",
        "     \"Insulin\": 0, \n",
        "     \"BMI\": 33.5, \n",
        "     \"DiabetesPedigreeFunction\": 0.627, \n",
        "     \"Age\": 50},\n",
        "\n",
        "    {\"Pregnancies\": 1, \n",
        "     \"Glucose\": 85, \n",
        "     \"BloodPressure\": 66, \n",
        "     \"SkinThickness\": 29, \n",
        "     \"Insulin\": 20, \n",
        "     \"BMI\": 26.5, \n",
        "     \"DiabetesPedigreeFunction\": 0.351, \n",
        "     \"Age\": 31},\n",
        "      ]}\n",
        "\n",
        "body = str.encode(json.dumps(data))\n",
        "\n",
        "url = 'http://a172e11b-9cad-4f30-83bf-5daf69628f52.southcentralus.azurecontainer.io/score'\n",
        "\n",
        "\n",
        "headers = {'Content-Type':'application/json'}\n",
        "\n",
        "req = urllib.request.Request(url, body, headers)\n",
        "\n",
        "try:\n",
        "    response = urllib.request.urlopen(req)\n",
        "\n",
        "    result = response.read()\n",
        "    print(result)\n",
        "except urllib.error.HTTPError as error:\n",
        "    print(\"The request failed with status code: \" + str(error.code))\n",
        "\n",
        "    # Print the headers - they include the requert ID and the timestamp, which are useful for debugging the failure\n",
        "    print(error.info())\n",
        "    print(error.read().decode(\"utf8\", 'ignore'))\n",
        "    print(\"Case 0: Not Diabetes, Case 1: Diabetes.\")"
      ],
      "outputs": [],
      "execution_count": null,
      "metadata": {
        "jupyter": {
          "source_hidden": false,
          "outputs_hidden": false
        },
        "nteract": {
          "transient": {
            "deleting": false
          }
        },
        "gather": {
          "logged": 1704705325923
        }
      }
    },
    {
      "cell_type": "code",
      "source": [
        "import requests\n",
        "import json\n",
        "\n",
        "# URL for the web service, should be similar to:\n",
        "scoring_uri = 'http://0d469fee-33c0-4ce9-9dac-2767356110c9.southcentralus.azurecontainer.io/score'\n",
        "# If the service is authenticated, set the key or token\n",
        "key = 'zuv0yY9prOPHFssuYSFWDJPhnVMxgJqG'\n",
        "#two set of data to score, so we get two results back\n",
        "data = {\"data\": [{\"Pregnancies\": 6, \n",
        "     \"Glucose\": 148, \n",
        "     \"BloodPressure\": 72, \n",
        "     \"SkinThickness\": 35, \n",
        "     \"Insulin\": 0, \n",
        "     \"BMI\": 33.5, \n",
        "     \"DiabetesPedigreeFunction\": 0.627, \n",
        "     \"Age\": 50},\n",
        "\n",
        "    {\"Pregnancies\": 1, \n",
        "     \"Glucose\": 85, \n",
        "     \"BloodPressure\": 66, \n",
        "     \"SkinThickness\": 29, \n",
        "     \"Insulin\": 20, \n",
        "     \"BMI\": 26.5, \n",
        "     \"DiabetesPedigreeFunction\": 0.351, \n",
        "     \"Age\": 31},\n",
        "      ]}\n",
        "    \n",
        "# Convert to JSON string\n",
        "input_data = json.dumps(data)\n",
        "with open(\"data.json\", \"w\") as _f:\n",
        "    _f.write(input_data)\n",
        "\n",
        "# Set the content type\n",
        "headers = {'Content-Type': 'application/json'}\n",
        "# If authentication is enabled, set the authorization header\n",
        "#headers['Authorization'] = f'Bearer {key}'\n",
        "\n",
        "# Make the request and display the response\n",
        "resp = requests.post(scoring_uri, input_data, headers=headers)\n",
        "print(resp.json())\n",
        "print(\"Case 0: Not Diabetes, Case 1: Diabetes.\")"
      ],
      "outputs": [],
      "execution_count": null,
      "metadata": {
        "gather": {
          "logged": 1704705082512
        }
      }
    },
    {
      "cell_type": "code",
      "source": [
        "# test using service instance\n",
        "input_data = json.dumps({\n",
        "    'data': data\n",
        "})\n",
        "\n",
        "output = service.run(input_data)\n",
        "output"
      ],
      "outputs": [],
      "execution_count": null,
      "metadata": {
        "gather": {
          "logged": 1704705082585
        }
      }
    },
    {
      "cell_type": "markdown",
      "source": [
        "Print the logs of the web service and delete the service"
      ],
      "metadata": {
        "gather": {
          "logged": 1598432765711
        },
        "jupyter": {
          "outputs_hidden": false,
          "source_hidden": false
        },
        "nteract": {
          "transient": {
            "deleting": false
          }
        }
      }
    },
    {
      "cell_type": "code",
      "source": [
        "logs = service.get_logs()\n",
        "logs"
      ],
      "outputs": [],
      "execution_count": null,
      "metadata": {
        "jupyter": {
          "outputs_hidden": false,
          "source_hidden": false
        },
        "nteract": {
          "transient": {
            "deleting": false
          }
        },
        "gather": {
          "logged": 1704705082614
        }
      }
    },
    {
      "cell_type": "code",
      "source": [
        "service.delete()\n",
        "compute_target.delete()"
      ],
      "outputs": [],
      "execution_count": null,
      "metadata": {
        "gather": {
          "logged": 1704705082644
        }
      }
    }
  ],
  "metadata": {
    "kernel_info": {
      "name": "python38-azureml"
    },
    "kernelspec": {
      "name": "python38-azureml",
      "language": "python",
      "display_name": "Python 3.8 - AzureML"
    },
    "language_info": {
      "name": "python",
      "version": "3.8.5",
      "mimetype": "text/x-python",
      "codemirror_mode": {
        "name": "ipython",
        "version": 3
      },
      "pygments_lexer": "ipython3",
      "nbconvert_exporter": "python",
      "file_extension": ".py"
    },
    "nteract": {
      "version": "nteract-front-end@1.0.0"
    },
    "microsoft": {
      "ms_spell_check": {
        "ms_spell_check_language": "en"
      },
      "host": {
        "AzureML": {
          "notebookHasBeenCompleted": true
        }
      }
    }
  },
  "nbformat": 4,
  "nbformat_minor": 4
}